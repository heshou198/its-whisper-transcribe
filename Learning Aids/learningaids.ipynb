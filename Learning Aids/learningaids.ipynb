{
 "cells": [
  {
   "cell_type": "code",
   "execution_count": 2,
   "metadata": {},
   "outputs": [
    {
     "name": "stderr",
     "output_type": "stream",
     "text": [
      "100%|█████████████████████████████████████| 1.42G/1.42G [02:52<00:00, 8.88MiB/s]\n",
      "100%|██████████| 320960/320960 [09:35<00:00, 557.78frames/s]\n"
     ]
    }
   ],
   "source": [
    "import sys\n",
    "sys.path.append(\"..\")\n",
    "from utilities import *\n",
    "\n",
    "result = transcribe(\"../audio/example.mp3\", \"medium.en\")"
   ]
  },
  {
   "cell_type": "markdown",
   "metadata": {},
   "source": [
    "### Chapterization\n",
    "Feed segments to Llama-70b to generate chapter titles."
   ]
  },
  {
   "cell_type": "code",
   "execution_count": 3,
   "metadata": {},
   "outputs": [
    {
     "name": "stdout",
     "output_type": "stream",
     "text": [
      "\"Introduction to Computer Science and Programming\"\n",
      "[00:00:00,000 --> 00:06:07,000]\n",
      "(Chunk 1, 1167 words, 0:06:07.120000 mins) \n",
      "\n",
      " The following content is provided under a Creative Commons license. Your support will help MIT OpenCourseWare continue to offer high quality educational resources for free. To make a donation or view additional materials from hundreds of MIT courses, visit MIT OpenCourseWare at ocw.mit.edu. PROFESSOR ERIC GRIMSON Good morning. Try it again. Good morning. Thank you. This is 600, also known as Introduction to Computer Science and Programming. My name is Eric Grimson. Together, Professor John Guttag over here. We're going to be lecturing the course this term. I want to give you a heads up. You're getting some serious firepower this term. John was department head for 10 years, felt like a century. And in course 6, I'm the current department head in course 6. John's been lecturing for 30 years, roughly. All right. I'm the young guy. I've only been lecturing for 25 years. You can tell I have less gray hair than he does. What I'm trying to say to you is, we take this course really seriously. We hope you do as well. But we think it's really important for the department to help everybody learn about computation, and that's what this course is about. What I want to do today is three things. I'm going to start, actually I shouldn't say start, I'm going to do it in the middle. A little bit of administrvia, the kinds of things you need I want to talk about the goals of the course. What it is you'll be able to do at the end of this course when you get through it. And then I want to begin talking about the concepts and tools of computational thinking, which is what we're primarily going to focus on here. We're going to try and help you learn how to think like a computer scientist, and we're going to begin talking about that towards the end of this lecture, and of course throughout the rest of the lectures that carry on. All right, let's start with the goals. And I'm going to give you goals in two levels. The strategic goals are the following. We want to help prepare freshmen and sophomores who are interested in majoring in Course 6 to get an easy entry into the department, especially for those students who don't have a lot of prior programming experience. If you're in that category, don't panic, you're going to get it. We're going to help you ramp in, and you'll certainly be able to start the Course 6 curriculum and do just fine and still finish on target. We don't expect everybody to be a Course 6 major, contrary to popular opinion. So for those of you not in that category, the second thing we want to do is we want to help students who don't plan to major in Course 6 to feel justifiably confident in their ability to write and read small pieces of code. For all students, what we want to do is we want to give you an understanding of the role computation can and cannot play in tackling technical problems. So that you will come away with a sense of what you can do, what you can't do, and what kinds of things you should use to tackle complex problems. And finally, we want to position all students so that you can easily, if you like, compete for things like your ops and summer jobs. Because you'll have an appropriate level of confidence and competence in your ability to do computational problem solving. Those are the strategic goals. Now, this course is primarily aimed at students who have little or no prior programming experience. As a consequence, we believe that no student here is underqualified for this course. You're all MIT students, you're all qualified to be here. But we also hope that there aren't any students here who are overqualified for this course. What do I mean by that? If you've done a lot of prior programming, this is probably not the best course for you. And if you're in that category, I would please encourage you to talk to John or I after class about what your goals are, what kind of experience you have, and how we might find you a course that better meets your goals. Second reason we don't want overqualified students in the class, it sounds a little nasty, but the second reason is, an overqualified student, somebody who's, I don't know, programmed for Google for the last five years, is going to have an easy time in this course, but we don't want such a student accidentally intimidating the rest of you. We don't want you to feel inadequate when you're simply inexperienced. And so it really is a course aimed at students with little or no prior programming experience. And again, if you're not in that category, talk to John or I after class, and we'll help you figure out where you might want to go. OK, those are the top level goals of the course. Let's talk sort of at a more tactical level about what do we want you to know in this course. What do we want you to be able to do by the time you leave this course? So here are the skills that we would like you to acquire. able to use the basic tools of computational thinking to write small scale programs. We're going to keep coming back to that idea, but I'm going to call it computational thinking. And that's so you can write small pieces of code. And small is not derogatory here, by the way, it just says the size of things you're going to be able to do. Second skill we want you to have at the end of this course is the ability to use a vocabulary of computational tools in order to be able to understand programs written by others. So you're going to be able to write, you're going to be able to read. This latter skill, by the way, is incredibly valuable. Because you don't want to do everything from scratch yourself, you want to be able to look at what is being created by somebody else and understand what is inside of there, whether it works correctly, and how you can build on it. This is one of the few places where plagiarism is an OK thing. It's not bad to, if you like, learn from the skills of others in order to create something you want to write. Although we'll come back to plagiarism as a bad thing later on. Third thing we want you to do is to understand the fundamental, both capabilities and limitations of computation, and the costs associated with them. And that latter statement sounds funny, you don't think of computation having limits, but they do. There are some things that cannot be computed. We want you to understand where those limits are. So you're going to be able to understand \n",
      "\n",
      "\n",
      "\"Introduction to Computational Thinking and Problem-Solving\"\n",
      "[00:06:07,000 --> 00:08:06,000]\n",
      "(Chunk 2, 380 words, 0:01:59.620000 mins) \n",
      "\n",
      " And then finally, the last tactical skill that you're going to get out of this course is you're going to have the ability to map scientific problems into a computational framework. So you're going to be able to take a description of a problem and map it into something computational. Now if you think about it, boy, this sounds like grammar school. We're going to teach you to read, we're going to teach you to write, we're going to teach you to understand what you can and cannot do, and most importantly, we're going to try and give you the start of an ability to take a description of a problem from some other domain and figure out how to map it into that domain of computation so you can do the reading and writing that you want to do. OK, in a few minutes we're going to start talking then about what is computation, how are we going to start building those tools, but that's what you should take away. time you're done. Now let me take a sidebar for about five minutes to talk about course administration, the administrvia, things that we're going to do in the course, just so you know what the rules are. Right, so class is two hours of lecture a week. You obviously know where, and you know when, because you're here, Tuesdays and Thursdays at 11. One hour of recitation a week on Fridays, and we'll come back in a second to how you're going to get set up for that. And nine hours a week of outside the class work. Those nine hours are going to be primarily working on problem sets, and all the problem sets are going to involve programming in Python, which is the language we're going to be using this term. Now, one of the things you're going to see is the first problem sets are pretty easy. Actually that's probably wrong, John, right? They're very easy. And we're going to ramp up. By the time we get to the end of the term, you're going to be dealing with some fairly complex things. So one of the things you're going to see is, we're going to make heavy use of libraries, or code written by \n",
      "\n",
      "\n",
      "\"Course Logistics and Expectations\"\n",
      "[00:08:06,000 --> 00:11:54,000]\n",
      "(Chunk 3, 753 words, 0:03:47.800000 mins) \n",
      "\n",
      " having to write from scratch. But it does mean that this skill here is going to be really valuable. You need to be able to read that code and understand it, as well as write your own. OK. Two quizzes during the term. The dates have already been scheduled. John, I forgot to look them up. I think it's October 2nd and November 4th. It'll be on the course website. My point is, go check the course website, which by the If you know you have a conflict with one of those quiz dates now, please see John or I right away. We'll arrange something ahead of time. But if you, the reason I'm saying that is, you know that you're getting married that day, for example, we will excuse you from the quiz to get married. We'll expect you to come right back to do the quiz, by the way, but boy, tough crowd. All right. If you have a conflict, please let us know. Second thing is, if you have an MIT-documented special need for taking quizzes, please see John or I well in advance, at least two weeks before the quiz. Again, we'll arrange for this, but you need to give us enough warning so that we can deal with that. OK, the quizzes are open book. This course is not about memory. It's not how well you can memorize facts. In fact, I think both John and I are a little sensitive to memory tests, given our age, right John? This is not about how you memorize things, it's about how you think. So they're open note, open book. And it's really going to test your ability to think. The grades for the course will be assigned roughly, and I use the word roughly, because we reserve the right to move these numbers around a little bit, but basically in the following percentages. 55% of your grade comes from the problem sets. The other 45 come from the quizzes. And I should have said, there's two quizzes in a final exam. I forgot that, a final exam during final periods. So the quiz percentages are 10, 15, and 20%, which makes up the other 45. OK, other administrvia. Let me just look through my list here. First problem set, problem set 0 has already been posted. This is a really easy, well, we intend it to be a really easy problem set. It's basically to get you to load up Python on your machine and make sure you understand how to interact with it. The first problem set will be posted shortly. It's also pretty boring, somewhat like my lectures, but not John's. And that means, you know, we want you just to get going on things. Don't worry, we're going to make them more interesting as you go along. Nonetheless, I want to stress that none of these problem sets are intended to be lethal. We're not using them to weed you out, we're using them to help you learn. So if you run into a problem set that just you don't get, right, seek help. Could be psychiatric help, could be a TA. I recommend the TA. My point being, please come and talk to somebody. The problems are set up so that if you start down the right path, it should be pretty straightforward to work it through. If you start down a plausible but incorrect path, you can sometimes find yourself stuck in the weeds somewhere, and we want to bring you back in. So part of the goal here is, this should not be an grueling, exhausting kind of test. It's really something that should be helping you learn the material. If you need help, ask John, myself, or the TAs. That's what we're here for. OK. We're going to run primarily a paperless subject. That's why the website is there. Please check it, that's where everything's going to be posted in terms of things you need to know. And in particular, please go to it today. You will find a form there that you need to fill out to register for, or sign up for, rather, a recitation. Recitations are on Friday. Right now we have them scheduled at 9, 10, 11, 12, 1, and 2. We may drop one of the recitations, just depending on course size. So we reserve the right, unfortunately, to have to move you around. My guess is that 9 is not going to be a tremendously \n",
      "\n",
      "\n",
      "\"No Required Text: Take Notes Responsibly\"\n",
      "[00:11:54,000 --> 00:13:50,000]\n",
      "(Chunk 4, 380 words, 0:01:56.320000 mins) \n",
      "\n",
      " Nonetheless, please go in and sign up. We will let you sign up for whichever recitation makes sense for you. Again, we reserve the right to move people around if we have to, just a balanced load, but we want you to find something that fits your schedule rather than ours. OK. Other things. There is no required text. If you feel exposed without a textbook, and you really have to have a textbook, you'll find one recommended, actually I'm going to reuse that word, John, at least suggested, on I don't think either of us are thrilled with the text. It's the best we've probably found for Python. It's OK. If you need it, it's there. But we're going to basically not rely on any specific text. All right, related to that, attendance here is obviously not mandatory. You ain't in high school anymore. I think both of us would love to see your smiling faces, or at least your faces, even if you're not smiling at us every day. Point I want to make about this, though, is that we are going to cover a lot of material that is not in the And we do have assigned readings associated with each one of these lectures. If you choose not to show up today, or sorry, that's a bad way, you did choose to show up today, if you choose not to show up in future days, we'll understand. But please also understand that the TAs won't have a lot of patience with you if you're asking a question about something that was either covered in the readings or covered in the lecture, and is pretty straightforward. And we expect you to behave responsibly, and we will as well. All right. I think the last thing I want to say is we will not be handing out class notes. Now this sounds like a draconian measure, let me tell you why. Every study I know of, and I suspect everyone John knows, about learning stresses that students learn best when they take notes. Ironically, even if they never look at them. The process of writing is exercising both halves of your brain, and it's actually helping you learn, and so taking notes is a really valuable thing. \n",
      "\n",
      "\n",
      "\"Taking Notes and Asking Questions in Class\"\n",
      "[00:13:50,000 --> 00:15:18,000]\n",
      "(Chunk 5, 299 words, 0:01:27.600000 mins) \n",
      "\n",
      " What we will distribute for most lectures is a handout that's mostly code examples that we're going to do. I don't happen to have one today, because we're not going to do a lot of code. We will in future. Those notes are going to make no sense, I'm guessing, outside of the lecture. All right, so it's not just you can swing by at 11.04 and grab a copy and go off and catch some more sleep. What we recommend is you use those notes to take your own annotations to help you understand what's going on, but we're not going to provide class notes. We want you to take your own notes to help you, if you like, spur your own learning process. All right, and then finally, I want to stress that John, myself, all of the staff, our job is to help you learn. That's what we're here for. That's what we get excited about. If you're stuck, if you're struggling, if you're not certain about something, please ask. We're not mind readers. We can't tell when you're struggling, other than sort of seeing the expression on your face. We need your help in identifying that, but all of the TAs, many of whom were sitting down in the front row over here, are here to help, so come and ask. At the same time, remember that they're students too. And if you come and ask a question that you could have easily answered by doing the reading, coming to lecture, or using Google, they're going to have less patience. But helping you understand things that really are conceptual difficulties, what they're here for and what we're here for. So please come and talk to us. OK, that takes care of the administrator preamble. \n",
      "\n",
      "\n"
     ]
    }
   ],
   "source": [
    "# Segment the transcript on all pauses\n",
    "segments = chunk_on_pause(result['segments'], -1, 250, 1500)\n",
    "\n",
    "# Create Chapter titles for segments\n",
    "chapters = chapterize(segments[:5])\n",
    "\n",
    "for c in chapters:\n",
    "    print(c[\"title\"])\n",
    "    print(c[\"time\"])\n",
    "    print(c[\"metadata\"], \"\\n\")\n",
    "    print(c[\"text\"], \"\\n\\n\")"
   ]
  },
  {
   "cell_type": "markdown",
   "metadata": {},
   "source": [
    "### Note Generation\n",
    "Feed the chapters back to Llama-70b to create useful notes from the transcript."
   ]
  },
  {
   "cell_type": "code",
   "execution_count": 10,
   "metadata": {},
   "outputs": [
    {
     "name": "stdout",
     "output_type": "stream",
     "text": [
      "\n",
      " * Goals of the course:\n",
      "\t+ Help freshmen and sophomores interested in majoring in Course 6 to get an easy entry into the department.\n",
      "\t+ Help students who don't plan to major in Course 6 feel justifiably confident in their ability to write and read small pieces of code.\n",
      "\t+ Give all students an understanding of the role computation can and cannot play in tackling technical problems.\n",
      "\t+ Position all students to easily compete for jobs, internships, and other opportunities.\n",
      "* Skills we want you to acquire:\n",
      "\t+ Use the basic tools of computational thinking to write small-scale programs.\n",
      "\t+ Use a vocabulary of computational tools to understand programs written by others.\n",
      "\t+ Understand the fundamental capabilities and limitations of computation, and the costs associated with them. \n",
      "\n",
      "\n",
      " * The course will teach students how to read and write in a computational framework.\n",
      "* Students will learn how to map scientific problems into a computational framework.\n",
      "* The course will cover computation, how to build tools, and how to use libraries.\n",
      "* There will be two hours of lecture per week, one hour of recitation per week, and nine hours per week of outside work.\n",
      "* Problem sets will be assigned weekly and will involve programming in Python.\n",
      "* The problem sets will start out easy and gradually become more complex by the end of the term. \n",
      "\n",
      "\n",
      " * Course Logistics and Expectations\n",
      "\t+ Two quizzes during the term (October 2nd and November 4th)\n",
      "\t+ Quizzes are open book and test problem-solving ability, not memory\n",
      "\t+ Grades will be assigned roughly as follows: 55% for problem sets, 10% for first quiz, 15% for second quiz, and 20% for final exam\n",
      "\t+ First problem set (problem set 0) has already been posted, and it is intended to be easy and help students get familiar with Python\n",
      "\t+ Subsequent problem sets will be more interesting and challenging\n",
      "\t+ None of the problem sets are intended to be lethal, and students should seek help if they need it\n",
      "\t+ The course will run primarily as a paperless subject, and all information will be posted on the course website\n",
      "\t+ Students need to register for a recitation section (Friday, 9, 10, 11, 12, 1, or 2) \n",
      "\n",
      "\n",
      " * Sign up for a recitation that fits your schedule\n",
      "* There is no required textbook, but one will be suggested\n",
      "* Attendance is not mandatory, but there will be assigned readings and lectures will cover material not in the book\n",
      "* The TAs won't have patience with questions about straightforward material covered in the readings or lectures\n",
      "* Class notes will not be handed out, as taking notes is an important part of the learning process \n",
      "\n",
      "\n",
      " * The instructor will not provide class notes, but will distribute handouts with code examples for most lectures.\n",
      "* Students are encouraged to take their own notes to help them understand the material and spur their own learning process.\n",
      "* The instructor and TAs are there to help students learn and answer questions, but they cannot read minds and need students to ask for help.\n",
      "* TAs are also students and may have less patience for questions that can be easily answered by doing the reading, coming to lecture, or using Google.\n",
      "* Students should come and talk to the instructor or TAs if they have conceptual difficulties or need help understanding something. \n",
      "\n"
     ]
    }
   ],
   "source": [
    "# q = \"Imagine you are attending the lecture and tasked with refining the following excerpt into notes. Your goal is to streamline the content by eliminating redundancies and extraneous details. As you organize the notes, feel free to create subheadings where necessary. Your focus should be on retaining crucial information.\\n\\n\"\n",
    "q = \"Write structured notes ONLY in bulletpoint form using the following excerpt of a lecture transcript:\\n\"\n",
    "\n",
    "for c in chapters:\n",
    "    content = '\\n'.join([c['title'], c['metadata'], c['text']])\n",
    "    \n",
    "    notes = query(q, content)\n",
    "    filtered ='\\n'.join([line for line in notes.split('\\n') if line.strip() and line.strip()[0] in ('*', '+', '-')])\n",
    "    \n",
    "    print('\\n', filtered, '\\n')"
   ]
  }
 ],
 "metadata": {
  "kernelspec": {
   "display_name": "Python 3 (ipykernel)",
   "language": "python",
   "name": "python3"
  },
  "language_info": {
   "codemirror_mode": {
    "name": "ipython",
    "version": 3
   },
   "file_extension": ".py",
   "mimetype": "text/x-python",
   "name": "python",
   "nbconvert_exporter": "python",
   "pygments_lexer": "ipython3",
   "version": "3.9.5"
  }
 },
 "nbformat": 4,
 "nbformat_minor": 4
}
